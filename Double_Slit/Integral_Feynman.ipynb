{
 "cells": [
  {
   "cell_type": "code",
   "execution_count": 1,
   "metadata": {},
   "outputs": [],
   "source": [
    "import numpy as np\n",
    "import matplotlib.pylab as plt\n",
    "import cmath"
   ]
  },
  {
   "cell_type": "code",
   "execution_count": null,
   "metadata": {},
   "outputs": [],
   "source": [
    "def Intensidad_difraccion(alpha):\n",
    "    return (np.sin(alpha)/alpha)**2\n",
    "def function_alpha(y_pos,wave_length):\n",
    "    return np.pi*1.0*10**(-4)/(wave_length)*y_pos\n",
    "def Intensidad_interferencia(y_pos,wave_length):\n",
    "    return (np.cos((np.pi*35.6*10**(-5)*y_pos)/(wave_length)))**2"
   ]
  },
  {
   "cell_type": "code",
   "execution_count": null,
   "metadata": {},
   "outputs": [],
   "source": [
    "def Feynman_integral(N,lim_z,rendijas=\"Two\",a=1.0*10**(-4),Lam=530*10**(-9),d=35.6*10**(-5),D_1=1.,D_2=1.):\n",
    "    #N es el número de puntos que se quiere hacer y lim_z es el rango en donde se quiere ver la difracción\n",
    "    lim_x=a*0.5\n",
    "    if rendijas==\"Two\":\n",
    "        y=np.linspace(-0.5*d,-0.5*d-a)\n",
    "        y=np.append(y,np.linspace(0.5*d,0.5*d+a))\n",
    "        I_z=[]\n",
    "        for i_z in range(N+1):\n",
    "            delta_z=2.0*lim_z/N\n",
    "            z=delta_z*i_z-lim_z\n",
    "            integral=0.0\n",
    "            for i_x in range(N+1):\n",
    "                    delta_x=2.0*lim_x/N\n",
    "                    x=delta_x*i_x-lim_x\n",
    "                    exponential_2=np.exp(np.pi*1j*(x-y)**2/(D_1*Lam))\n",
    "                    exponential_3=np.exp(np.pi*1j*(y-z)**2/(D_2*Lam))\n",
    "                    integral += np.trapz(exponential_2*exponential_3,y)*delta_x\n",
    "            integral=np.sqrt(integral.conjugate()*integral).real\n",
    "            I_z.append(integral)\n",
    "        I_z=np.array(I_z)\n",
    "        return I_z/np.max(I_z)\n",
    "    elif rendijas==\"One\":\n",
    "        y=np.linspace(0.5*d,0.5*d+a)\n",
    "        I_z=[]\n",
    "        for i_z in range(N+1):\n",
    "            delta_z=2.0*lim_z/N\n",
    "            z=delta_z*i_z-lim_z\n",
    "            integral=0.0\n",
    "            for i_x in range(N+1):\n",
    "                    delta_x=2.0*lim_x/N\n",
    "                    x=delta_x*i_x-lim_x\n",
    "                    exponential_2=np.exp(np.pi*1j*(x-y)**2/(D_1*Lam))\n",
    "                    exponential_3=np.exp(np.pi*1j*(y-z)**2/(D_2*Lam))\n",
    "                    integral += np.trapz(exponential_2*exponential_3,y)*delta_x\n",
    "            integral=np.sqrt(integral.conjugate()*integral).real\n",
    "            I_z.append(integral)\n",
    "        I_z=np.array(I_z)\n",
    "        return I_z/np.max(I_z)"
   ]
  },
  {
   "cell_type": "code",
   "execution_count": null,
   "metadata": {},
   "outputs": [],
   "source": [
    "Intensidad_dos=Feynman_integral(500,0.005,rendijas=\"Two\")\n",
    "Intensidad_una=Feynman_integral(500,0.0048,rendijas=\"One\")"
   ]
  },
  {
   "cell_type": "code",
   "execution_count": null,
   "metadata": {},
   "outputs": [],
   "source": [
    "plt.figure(figsize=(7,5))\n",
    "y_f=np.linspace(-5./1000,5./1000,len(Intensidad_dos))\n",
    "y_f[np.argmin(np.abs(y_f))]=1E-7\n",
    "wave_length=530*10**(-9)\n",
    "plt.plot(y_f,Intensidad_dos*Intensidad_difraccion(function_alpha(y_f,wave_length)),color=\"navy\",label=\"Feynman\")\n",
    "plt.plot(y_f,Intensidad_interferencia(y_f,wave_length)*Intensidad_difraccion(function_alpha(y_f,wave_length)),color=\"firebrick\", label=\"Fraunhofer\")\n",
    "plt.xlabel(\"Posición [m]\")\n",
    "plt.ylabel(\"Intensidad [U.A]\")\n",
    "plt.title(\"Patron de interferencia de dos rendijas\")\n",
    "plt.legend()\n",
    "plt.savefig(\"./Figuras/Feynman_dosrendijas.png\")\n",
    "plt.show()"
   ]
  },
  {
   "cell_type": "code",
   "execution_count": null,
   "metadata": {},
   "outputs": [],
   "source": [
    "plt.figure(figsize=(6,4))\n",
    "y_f=np.linspace(-5/1000,5/1000,len(Intensidad_dos))\n",
    "y_f[np.argmin(np.abs(y_f))]=1E-7\n",
    "plt.plot(y_f,Intensidad_una,color=\"navy\",label=\"Feynman\")\n",
    "plt.plot(y_f,Intensidad_difraccion(function_alpha(y_f,wave_length)),color=\"firebrick\", label=\"Fraunhofer\")\n",
    "plt.xlabel(\"Posición [m]\")\n",
    "plt.ylabel(\"Intensidad [U.A]\")\n",
    "plt.title(\"Patron de interferencia de una rendija\")\n",
    "plt.legend()\n",
    "plt.savefig(\"./Figuras/Feynman_unarendija.png\")\n",
    "plt.show()"
   ]
  },
  {
   "cell_type": "code",
   "execution_count": null,
   "metadata": {},
   "outputs": [],
   "source": []
  },
  {
   "cell_type": "code",
   "execution_count": null,
   "metadata": {},
   "outputs": [],
   "source": []
  }
 ],
 "metadata": {
  "kernelspec": {
   "display_name": "Python 3",
   "language": "python",
   "name": "python3"
  },
  "language_info": {
   "codemirror_mode": {
    "name": "ipython",
    "version": 3
   },
   "file_extension": ".py",
   "mimetype": "text/x-python",
   "name": "python",
   "nbconvert_exporter": "python",
   "pygments_lexer": "ipython3",
   "version": "3.7.1"
  }
 },
 "nbformat": 4,
 "nbformat_minor": 2
}
