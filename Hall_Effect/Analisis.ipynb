{
 "cells": [
  {
   "cell_type": "code",
   "execution_count": 1,
   "metadata": {},
   "outputs": [],
   "source": [
    "import pandas as pd\n",
    "import numpy as np\n",
    "import matplotlib.pylab as plt\n",
    "from scipy.optimize import curve_fit\n",
    "from scipy import odr"
   ]
  },
  {
   "cell_type": "code",
   "execution_count": 2,
   "metadata": {},
   "outputs": [],
   "source": [
    "archivo=pd.ExcelFile(\"Datos/Efecto_Hall.xlsx\")"
   ]
  },
  {
   "cell_type": "code",
   "execution_count": 3,
   "metadata": {},
   "outputs": [
    {
     "data": {
      "text/plain": [
       "['Actividad_2_parte_1',\n",
       " 'Actividad_2_parte_2',\n",
       " 'Actividad_3_parte_1',\n",
       " 'Actividad_3_parte_2',\n",
       " 'Activi',\n",
       " 'Clibracion']"
      ]
     },
     "execution_count": 3,
     "metadata": {},
     "output_type": "execute_result"
    }
   ],
   "source": [
    "archivo.sheet_names"
   ]
  },
  {
   "cell_type": "code",
   "execution_count": 4,
   "metadata": {},
   "outputs": [],
   "source": [
    "calibracion=pd.read_excel(archivo,sheet_name=\"Clibracion\")"
   ]
  },
  {
   "cell_type": "code",
   "execution_count": 5,
   "metadata": {},
   "outputs": [
    {
     "data": {
      "text/plain": [
       "<matplotlib.axes._subplots.AxesSubplot at 0x1119891208>"
      ]
     },
     "execution_count": 5,
     "metadata": {},
     "output_type": "execute_result"
    },
    {
     "data": {
      "image/png": "[encoded data removed]",
      "text/plain": [
       "<Figure size 432x288 with 1 Axes>"
      ]
     },
     "metadata": {
      "needs_background": "light"
     },
     "output_type": "display_data"
    }
   ],
   "source": [
    "calibracion.plot(kind=\"scatter\",x=\"Corriente bobina(mA)\",y=\"Campo magnetico(mT)\")"
   ]
  },
  {
   "cell_type": "code",
   "execution_count": 6,
   "metadata": {},
   "outputs": [],
   "source": [
    "def model(x,a,b):\n",
    "    return a*x+b"
   ]
  },
  {
   "cell_type": "code",
   "execution_count": 7,
   "metadata": {},
   "outputs": [],
   "source": [
    "x_obs = np.array(calibracion[\"Corriente bobina(mA)\"])\n",
    "y_obs = np.array(calibracion[\"Campo magnetico(mT)\"])\n",
    "y_err = np.ones(len(x_obs))*1\n",
    "x_err = np.ones(len(x_obs))*0.1*0.5"
   ]
  },
  {
   "cell_type": "code",
   "execution_count": 8,
   "metadata": {},
   "outputs": [
    {
     "data": {
      "image/png": "[encoded data removed]",
      "text/plain": [
       "<Figure size 432x360 with 1 Axes>"
      ]
     },
     "metadata": {
      "needs_background": "light"
     },
     "output_type": "display_data"
    }
   ],
   "source": [
    "popt, pcov = curve_fit(model, x_obs, y_obs)\n",
    "\n",
    "x=np.linspace(min(x_obs),max(x_obs))\n",
    "perr = np.sqrt(np.diag(pcov))\n",
    "R_2=np.abs(pcov[1,0]/np.sqrt(pcov[0,0]*pcov[1,1]))\n",
    "\n",
    "fig=plt.figure(figsize=(6,5))\n",
    "\n",
    "plt.errorbar(x_obs,y_obs,yerr=y_err,xerr=x_err,capsize=2,fmt=\"o\",color=\"firebrick\",label=\"Datos\")\n",
    "            #ret += '({}{})'.format(i, '**%d' % num if num > 1 else '')\n",
    "plt.plot(x,model(x,*popt),label=r\"B(I) = {}($\\pm${}) $I$ {} {}($\\pm${})\".format(round(popt[0],2),\n",
    "                                                                                    round(perr[0],2),\"+\" if popt[1]>0 else \"-\",\n",
    "                                                                                    round(np.abs(popt[1]),2),round(perr[1],2)))\n",
    "\n",
    "plt.text(min(x_obs), 0.85*max(y_obs), r'$R^2$={}'.format(round(R_2,3)))\n",
    "#plt.text(60, .025, r'$\\mu=100,\\ \\sigma=15$')\n",
    "plt.xlabel(\"Corriente bobina [mA]\")\n",
    "plt.ylabel(\"Campo magnetico [mT]\")\n",
    "plt.legend()\n",
    "plt.savefig(\"Figuras/Calibracion.png\")\n",
    "plt.show()"
   ]
  },
  {
   "cell_type": "markdown",
   "metadata": {},
   "source": [
    "# Fit con errores en X y en Y ODR(Orthogonal distance regression)"
   ]
  },
  {
   "cell_type": "code",
   "execution_count": 9,
   "metadata": {},
   "outputs": [],
   "source": [
    "def model(p,x):\n",
    "    a,b=p\n",
    "    return a*x+b"
   ]
  },
  {
   "cell_type": "code",
   "execution_count": 10,
   "metadata": {},
   "outputs": [],
   "source": [
    "x_obs = np.array(calibracion[\"Corriente bobina(mA)\"])\n",
    "y_obs = np.array(calibracion[\"Campo magnetico(mT)\"])\n",
    "y_err = np.ones(len(x_obs))*5\n",
    "x_err = np.ones(len(x_obs))*0.1*0.5"
   ]
  },
  {
   "cell_type": "code",
   "execution_count": 11,
   "metadata": {},
   "outputs": [],
   "source": [
    "linear = odr.Model(model)\n",
    "mydata = odr.RealData(x_obs, y_obs, sx=x_err, sy=y_err) # crea el objeto de datos con desviacion estandar en x y y\n",
    "myodr = odr.ODR(mydata, linear, beta0=[160., 15.]) # se crea la clase para hacer el fit con valores iniciales de los parametros\n",
    "myoutput = myodr.run()# se corre la regresion\n",
    "popt = myoutput.beta\n",
    "#perr = myoutput.sd_beta\n",
    "pcov= myoutput.cov_beta\n",
    "perr=np.sqrt(np.diag(pcov))\n",
    "R_2=np.abs(pcov[1,0]/np.sqrt(pcov[0,0]*pcov[1,1]))"
   ]
  },
  {
   "cell_type": "code",
   "execution_count": 12,
   "metadata": {},
   "outputs": [
    {
     "name": "stdout",
     "output_type": "stream",
     "text": [
      "fit parameter 1-sigma error\n",
      "164.62245467932945+/- 2.8586135350021413\n",
      "17.05093359215283+/- 5.051831738389679\n"
     ]
    }
   ],
   "source": [
    "print(\"fit parameter 1-sigma error\")\n",
    "for i in range(len(popt)):\n",
    "    print(str(popt[i])+\"+/- \"+str(perr[i]))"
   ]
  },
  {
   "cell_type": "code",
   "execution_count": 13,
   "metadata": {},
   "outputs": [],
   "source": [
    "#graficar los intervalos de confidencia\n",
    "nstd = 5.0 #Dibujar 5 sigma\n",
    "popt_up = popt + nstd*perr\n",
    "popt_dw = popt - nstd*perr\n",
    "x_fit = np.linspace(min(x_obs)-0.05, max(x_obs)+0.05, 100)\n",
    "fit = model(popt, x_fit)\n",
    "fit_up = model(popt_up, x_fit)\n",
    "fit_dw= model(popt_dw, x_fit)"
   ]
  },
  {
   "cell_type": "code",
   "execution_count": 14,
   "metadata": {},
   "outputs": [
    {
     "data": {
      "image/png": "[encoded data removed]",
      "text/plain": [
       "<Figure size 432x360 with 1 Axes>"
      ]
     },
     "metadata": {
      "needs_background": "light"
     },
     "output_type": "display_data"
    }
   ],
   "source": [
    "plt.figure(figsize=(6,5))\n",
    "plt.rcParams[\"font.size\"]= 10\n",
    "plt.errorbar(x_obs, y_obs, yerr=y_err, xerr=x_err,capsize=2,fmt=\".\",color=\"firebrick\", label=\"Datos\",ecolor=\"firebrick\")\n",
    "#plt.xlabel(\"Corriente bobina [mA]\", fontsize=18)\n",
    "#plt.ylabel(\"Campo magnetico(mT)\", fontsize=18)\n",
    "plt.xlabel(\"Corriente bobina [mA]\")\n",
    "plt.ylabel(\"Campo magnetico [mT]\")\n",
    "#plt.title(\"fit with error on both axis\", fontsize=18)\n",
    "plt.plot(x_fit, fit, \"navy\", lw=2, label=r\"B(I) = {}($\\pm${}) $I$ {} {}($\\pm${})\".format(round(popt[0],2),\n",
    "                                                                                    round(perr[0],2),\"+\" if popt[1]>0 else \"-\",\n",
    "                                                                                    round(np.abs(popt[1]),2),round(perr[1],2)))\n",
    "plt.fill_between(x_fit, fit_up, fit_dw, alpha=.4,color=\"dimgray\", label=r\"Intervalo {} $\\sigma$\".format(int(nstd)))\n",
    "#plt.legend(loc=\"best\",fontsize=18)\n",
    "plt.text(min(x_obs), 0.8*max(y_obs), r'$R^2$={}'.format(round(R_2,3)))\n",
    "plt.legend(loc=\"best\")\n",
    "plt.savefig(\"Figuras/Calibracion_error.png\")\n",
    "plt.show()"
   ]
  },
  {
   "cell_type": "markdown",
   "metadata": {},
   "source": [
    "# Segunda actividad"
   ]
  },
  {
   "cell_type": "code",
   "execution_count": 15,
   "metadata": {},
   "outputs": [
    {
     "data": {
      "text/plain": [
       "<matplotlib.axes._subplots.AxesSubplot at 0x1119b55f28>"
      ]
     },
     "execution_count": 15,
     "metadata": {},
     "output_type": "execute_result"
    },
    {
     "data": {
      "image/png": "[encoded data removed]",
      "text/plain": [
       "<Figure size 432x288 with 1 Axes>"
      ]
     },
     "metadata": {
      "needs_background": "light"
     },
     "output_type": "display_data"
    }
   ],
   "source": [
    "Act_2_1=pd.read_excel(archivo,sheet_name='Actividad_2_parte_1')\n",
    "Act_2_1=Act_2_1[Act_2_1[\"Campo magnetico (mA)\"]==1]\n",
    "Act_2_1.plot(x=\"Corriente Ip (mA)\",y=\"Voltaje Hall (mV)\")"
   ]
  },
  {
   "cell_type": "code",
   "execution_count": 16,
   "metadata": {},
   "outputs": [
    {
     "data": {
      "text/plain": [
       "<matplotlib.axes._subplots.AxesSubplot at 0x111a25e1d0>"
      ]
     },
     "execution_count": 16,
     "metadata": {},
     "output_type": "execute_result"
    },
    {
     "data": {
      "image/png": "[encoded data removed]",
      "text/plain": [
       "<Figure size 432x288 with 1 Axes>"
      ]
     },
     "metadata": {
      "needs_background": "light"
     },
     "output_type": "display_data"
    }
   ],
   "source": [
    "Act_2_1=pd.read_excel(archivo,sheet_name='Actividad_2_parte_1')\n",
    "Act_2_1=Act_2_1[Act_2_1[\"Campo magnetico (mA)\"]==1.5]\n",
    "Act_2_1.plot(x=\"Corriente Ip (mA)\",y=\"Voltaje Hall (mV)\")"
   ]
  },
  {
   "cell_type": "code",
   "execution_count": 17,
   "metadata": {},
   "outputs": [],
   "source": [
    "Act_2_2=pd.read_excel(archivo,sheet_name='Actividad_2_parte_2')"
   ]
  },
  {
   "cell_type": "code",
   "execution_count": 18,
   "metadata": {},
   "outputs": [
    {
     "data": {
      "text/plain": [
       "<matplotlib.axes._subplots.AxesSubplot at 0x111a3bb5c0>"
      ]
     },
     "execution_count": 18,
     "metadata": {},
     "output_type": "execute_result"
    },
    {
     "data": {
      "image/png": "[encoded data removed]",
      "text/plain": [
       "<Figure size 432x288 with 1 Axes>"
      ]
     },
     "metadata": {
      "needs_background": "light"
     },
     "output_type": "display_data"
    }
   ],
   "source": [
    "Act_2_2.plot(kind=\"scatter\",x=\"Corriente Campo magnetico (A)\",y=\"Voltaje Hall (mV)\")"
   ]
  },
  {
   "cell_type": "code",
   "execution_count": 53,
   "metadata": {},
   "outputs": [
    {
     "data": {
      "text/html": [
       "<div>\n",
       "<style scoped>\n",
       "    .dataframe tbody tr th:only-of-type {\n",
       "        vertical-align: middle;\n",
       "    }\n",
       "\n",
       "    .dataframe tbody tr th {\n",
       "        vertical-align: top;\n",
       "    }\n",
       "\n",
       "    .dataframe thead th {\n",
       "        text-align: right;\n",
       "    }\n",
       "</style>\n",
       "<table border=\"1\" class=\"dataframe\">\n",
       "  <thead>\n",
       "    <tr style=\"text-align: right;\">\n",
       "      <th></th>\n",
       "      <th>Voltaje Hall (mV)</th>\n",
       "      <th>Corriente Campo magnetico (A)</th>\n",
       "      <th>Temperatua</th>\n",
       "      <th>Ip (mA)</th>\n",
       "    </tr>\n",
       "  </thead>\n",
       "  <tbody>\n",
       "    <tr>\n",
       "      <th>0</th>\n",
       "      <td>-11.3</td>\n",
       "      <td>0.9</td>\n",
       "      <td>55.0</td>\n",
       "      <td>-10.0</td>\n",
       "    </tr>\n",
       "    <tr>\n",
       "      <th>1</th>\n",
       "      <td>-10.3</td>\n",
       "      <td>0.8</td>\n",
       "      <td>55.0</td>\n",
       "      <td>-10.0</td>\n",
       "    </tr>\n",
       "    <tr>\n",
       "      <th>2</th>\n",
       "      <td>-9.1</td>\n",
       "      <td>0.7</td>\n",
       "      <td>55.0</td>\n",
       "      <td>-10.0</td>\n",
       "    </tr>\n",
       "    <tr>\n",
       "      <th>3</th>\n",
       "      <td>-7.8</td>\n",
       "      <td>0.6</td>\n",
       "      <td>55.0</td>\n",
       "      <td>-10.0</td>\n",
       "    </tr>\n",
       "    <tr>\n",
       "      <th>4</th>\n",
       "      <td>-6.4</td>\n",
       "      <td>0.5</td>\n",
       "      <td>55.0</td>\n",
       "      <td>-10.0</td>\n",
       "    </tr>\n",
       "    <tr>\n",
       "      <th>5</th>\n",
       "      <td>-5.3</td>\n",
       "      <td>0.4</td>\n",
       "      <td>55.0</td>\n",
       "      <td>-10.0</td>\n",
       "    </tr>\n",
       "    <tr>\n",
       "      <th>6</th>\n",
       "      <td>-3.4</td>\n",
       "      <td>0.3</td>\n",
       "      <td>55.0</td>\n",
       "      <td>-10.0</td>\n",
       "    </tr>\n",
       "    <tr>\n",
       "      <th>7</th>\n",
       "      <td>-14.3</td>\n",
       "      <td>1.1</td>\n",
       "      <td>55.0</td>\n",
       "      <td>-10.0</td>\n",
       "    </tr>\n",
       "    <tr>\n",
       "      <th>8</th>\n",
       "      <td>-15.3</td>\n",
       "      <td>1.2</td>\n",
       "      <td>55.0</td>\n",
       "      <td>-10.0</td>\n",
       "    </tr>\n",
       "    <tr>\n",
       "      <th>9</th>\n",
       "      <td>-16.1</td>\n",
       "      <td>1.3</td>\n",
       "      <td>55.0</td>\n",
       "      <td>-10.0</td>\n",
       "    </tr>\n",
       "    <tr>\n",
       "      <th>10</th>\n",
       "      <td>-17.1</td>\n",
       "      <td>1.4</td>\n",
       "      <td>55.0</td>\n",
       "      <td>-10.0</td>\n",
       "    </tr>\n",
       "    <tr>\n",
       "      <th>11</th>\n",
       "      <td>7.2</td>\n",
       "      <td>-0.3</td>\n",
       "      <td>NaN</td>\n",
       "      <td>-10.0</td>\n",
       "    </tr>\n",
       "    <tr>\n",
       "      <th>12</th>\n",
       "      <td>4.9</td>\n",
       "      <td>-0.1</td>\n",
       "      <td>NaN</td>\n",
       "      <td>NaN</td>\n",
       "    </tr>\n",
       "    <tr>\n",
       "      <th>13</th>\n",
       "      <td>5.9</td>\n",
       "      <td>-0.2</td>\n",
       "      <td>NaN</td>\n",
       "      <td>NaN</td>\n",
       "    </tr>\n",
       "    <tr>\n",
       "      <th>14</th>\n",
       "      <td>8.6</td>\n",
       "      <td>-0.4</td>\n",
       "      <td>NaN</td>\n",
       "      <td>NaN</td>\n",
       "    </tr>\n",
       "    <tr>\n",
       "      <th>15</th>\n",
       "      <td>9.9</td>\n",
       "      <td>-0.5</td>\n",
       "      <td>NaN</td>\n",
       "      <td>NaN</td>\n",
       "    </tr>\n",
       "    <tr>\n",
       "      <th>16</th>\n",
       "      <td>11.1</td>\n",
       "      <td>-0.6</td>\n",
       "      <td>NaN</td>\n",
       "      <td>NaN</td>\n",
       "    </tr>\n",
       "    <tr>\n",
       "      <th>17</th>\n",
       "      <td>12.4</td>\n",
       "      <td>-0.7</td>\n",
       "      <td>NaN</td>\n",
       "      <td>NaN</td>\n",
       "    </tr>\n",
       "    <tr>\n",
       "      <th>18</th>\n",
       "      <td>13.6</td>\n",
       "      <td>-0.8</td>\n",
       "      <td>NaN</td>\n",
       "      <td>NaN</td>\n",
       "    </tr>\n",
       "    <tr>\n",
       "      <th>19</th>\n",
       "      <td>14.9</td>\n",
       "      <td>-0.9</td>\n",
       "      <td>NaN</td>\n",
       "      <td>NaN</td>\n",
       "    </tr>\n",
       "    <tr>\n",
       "      <th>20</th>\n",
       "      <td>-10.9</td>\n",
       "      <td>1.0</td>\n",
       "      <td>NaN</td>\n",
       "      <td>NaN</td>\n",
       "    </tr>\n",
       "    <tr>\n",
       "      <th>21</th>\n",
       "      <td>-15.5</td>\n",
       "      <td>1.5</td>\n",
       "      <td>NaN</td>\n",
       "      <td>NaN</td>\n",
       "    </tr>\n",
       "    <tr>\n",
       "      <th>22</th>\n",
       "      <td>15.9</td>\n",
       "      <td>-1.0</td>\n",
       "      <td>NaN</td>\n",
       "      <td>NaN</td>\n",
       "    </tr>\n",
       "    <tr>\n",
       "      <th>23</th>\n",
       "      <td>17.1</td>\n",
       "      <td>-1.1</td>\n",
       "      <td>NaN</td>\n",
       "      <td>NaN</td>\n",
       "    </tr>\n",
       "    <tr>\n",
       "      <th>24</th>\n",
       "      <td>18.2</td>\n",
       "      <td>-1.2</td>\n",
       "      <td>NaN</td>\n",
       "      <td>NaN</td>\n",
       "    </tr>\n",
       "    <tr>\n",
       "      <th>25</th>\n",
       "      <td>19.5</td>\n",
       "      <td>-1.3</td>\n",
       "      <td>NaN</td>\n",
       "      <td>NaN</td>\n",
       "    </tr>\n",
       "    <tr>\n",
       "      <th>26</th>\n",
       "      <td>20.5</td>\n",
       "      <td>-1.4</td>\n",
       "      <td>NaN</td>\n",
       "      <td>NaN</td>\n",
       "    </tr>\n",
       "    <tr>\n",
       "      <th>27</th>\n",
       "      <td>21.4</td>\n",
       "      <td>-1.5</td>\n",
       "      <td>NaN</td>\n",
       "      <td>NaN</td>\n",
       "    </tr>\n",
       "  </tbody>\n",
       "</table>\n",
       "</div>"
      ],
      "text/plain": [
       "    Voltaje Hall (mV)  Corriente Campo magnetico (A)  Temperatua  Ip (mA)\n",
       "0               -11.3                            0.9        55.0    -10.0\n",
       "1               -10.3                            0.8        55.0    -10.0\n",
       "2                -9.1                            0.7        55.0    -10.0\n",
       "3                -7.8                            0.6        55.0    -10.0\n",
       "4                -6.4                            0.5        55.0    -10.0\n",
       "5                -5.3                            0.4        55.0    -10.0\n",
       "6                -3.4                            0.3        55.0    -10.0\n",
       "7               -14.3                            1.1        55.0    -10.0\n",
       "8               -15.3                            1.2        55.0    -10.0\n",
       "9               -16.1                            1.3        55.0    -10.0\n",
       "10              -17.1                            1.4        55.0    -10.0\n",
       "11                7.2                           -0.3         NaN    -10.0\n",
       "12                4.9                           -0.1         NaN      NaN\n",
       "13                5.9                           -0.2         NaN      NaN\n",
       "14                8.6                           -0.4         NaN      NaN\n",
       "15                9.9                           -0.5         NaN      NaN\n",
       "16               11.1                           -0.6         NaN      NaN\n",
       "17               12.4                           -0.7         NaN      NaN\n",
       "18               13.6                           -0.8         NaN      NaN\n",
       "19               14.9                           -0.9         NaN      NaN\n",
       "20              -10.9                            1.0         NaN      NaN\n",
       "21              -15.5                            1.5         NaN      NaN\n",
       "22               15.9                           -1.0         NaN      NaN\n",
       "23               17.1                           -1.1         NaN      NaN\n",
       "24               18.2                           -1.2         NaN      NaN\n",
       "25               19.5                           -1.3         NaN      NaN\n",
       "26               20.5                           -1.4         NaN      NaN\n",
       "27               21.4                           -1.5         NaN      NaN"
      ]
     },
     "execution_count": 53,
     "metadata": {},
     "output_type": "execute_result"
    }
   ],
   "source": [
    "Act_2_2"
   ]
  },
  {
   "cell_type": "code",
   "execution_count": null,
   "metadata": {},
   "outputs": [],
   "source": []
  },
  {
   "cell_type": "code",
   "execution_count": null,
   "metadata": {},
   "outputs": [],
   "source": []
  },
  {
   "cell_type": "code",
   "execution_count": null,
   "metadata": {},
   "outputs": [],
   "source": []
  }
 ],
 "metadata": {
  "kernelspec": {
   "display_name": "Python 3",
   "language": "python",
   "name": "python3"
  },
  "language_info": {
   "codemirror_mode": {
    "name": "ipython",
    "version": 3
   },
   "file_extension": ".py",
   "mimetype": "text/x-python",
   "name": "python",
   "nbconvert_exporter": "python",
   "pygments_lexer": "ipython3",
   "version": "3.7.1"
  }
 },
 "nbformat": 4,
 "nbformat_minor": 2
}
