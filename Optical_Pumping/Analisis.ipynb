{
 "cells": [
  {
   "cell_type": "code",
   "execution_count": 2,
   "metadata": {},
   "outputs": [],
   "source": [
    "import pandas as pd\n",
    "import matplotlib.pylab as plt\n",
    "import numpy as np\n",
    "from scipy import optimize\n",
    "from scipy.optimize import curve_fit"
   ]
  },
  {
   "cell_type": "code",
   "execution_count": 3,
   "metadata": {},
   "outputs": [],
   "source": [
    "todo=pd.ExcelFile(\"Datos/Vida_setenta_Hijueputa.xlsx\")"
   ]
  },
  {
   "cell_type": "code",
   "execution_count": 4,
   "metadata": {},
   "outputs": [
    {
     "data": {
      "text/plain": [
       "['Calibración', 'Zeeman', 'rabii']"
      ]
     },
     "execution_count": 4,
     "metadata": {},
     "output_type": "execute_result"
    }
   ],
   "source": [
    "todo.sheet_names"
   ]
  },
  {
   "cell_type": "code",
   "execution_count": 5,
   "metadata": {},
   "outputs": [],
   "source": [
    "Zeeman=pd.read_excel(todo,sheet_name='Zeeman').dropna(how='all')\n",
    "Zeeman[\"Error_corriente\"] = np.ones(len(Zeeman))*0.001\n",
    "Zeeman[\"Error_frecuencia\"] = np.ones(len(Zeeman))*5"
   ]
  },
  {
   "cell_type": "code",
   "execution_count": 6,
   "metadata": {},
   "outputs": [],
   "source": [
    "def model(x,a,b):\n",
    "    return a*x+b"
   ]
  },
  {
   "cell_type": "code",
   "execution_count": 15,
   "metadata": {},
   "outputs": [],
   "source": [
    "x_obs_1 = np.array(Zeeman[\"Corriente pico 1 (A)\"])\n",
    "x_obs_2 = np.array(Zeeman[\"Corriente pico 2\"])\n",
    "y_obs = np.array(Zeeman[\"Frecuencia (kHz)\"])\n",
    "y_err=np.array(Zeeman[\"Error_frecuencia\"])\n",
    "popt_1, pcov_1 = curve_fit(model, x_obs_1, y_obs,sigma=y_err,absolute_sigma= True)\n",
    "popt_2, pcov_2 = curve_fit(model, x_obs_2, y_obs,sigma=y_err,absolute_sigma= True)\n",
    "perr_1 = np.sqrt(np.diag(pcov_1))\n",
    "perr_2 = np.sqrt(np.diag(pcov_2))\n",
    "R2_1=np.abs(pcov_1[1,0]/np.sqrt(pcov_1[0,0]*pcov_1[1,1]))\n",
    "R2_2=np.abs(pcov_2[1,0]/np.sqrt(pcov_2[0,0]*pcov_2[1,1]))"
   ]
  },
  {
   "cell_type": "code",
   "execution_count": 57,
   "metadata": {},
   "outputs": [
    {
     "data": {
      "image/png": "[encoded data removed]",
      "text/plain": [
       "<Figure size 432x288 with 1 Axes>"
      ]
     },
     "metadata": {
      "needs_background": "light"
     },
     "output_type": "display_data"
    }
   ],
   "source": [
    "plt.figure(figsize=(6,4))\n",
    "x_1=np.linspace(min(x_obs_1),max(x_obs_1))\n",
    "x_2=np.linspace(min(x_obs_2),max(x_obs_2))\n",
    "plt.plot(x_1,model(x_1,*popt_1),linestyle=\"--\",color=\"orangered\",label=r\"F={}($\\pm${}) I {} {}($\\pm${})\".format(round(popt_1[0],2),\n",
    "                                                                                    round(perr_1[0],2),\"+\" if popt_1[1]>0 else \"-\",\n",
    "                                                                                    round(np.abs(popt_1[1]),2),round(perr_1[1],2)))\n",
    "plt.errorbar(x_obs_1,y_obs,yerr=np.array(Zeeman[\"Error_frecuencia\"]),xerr=np.array(Zeeman[\"Error_corriente\"]),fmt=\".\",capsize=2,color=\"orangered\")\n",
    "plt.plot(x_2,model(x_2,*popt_2),linestyle=\"--\",color=\"firebrick\",label=r\"F={}($\\pm${}) I {} {}($\\pm${})\".format(round(popt_2[0],2),\n",
    "                                                                                    round(perr_2[0],2),\"+\" if popt_2[1]>0 else \"-\",\n",
    "                                                                                    round(np.abs(popt_2[1]),2),round(perr_2[1],3)))\n",
    "plt.errorbar(x_obs_2,y_obs,yerr=np.array(Zeeman[\"Error_frecuencia\"]),xerr=np.array(Zeeman[\"Error_corriente\"]),fmt=\".\",capsize=2,color=\"firebrick\")\n",
    "plt.text(min(x_obs_1)+0.24, 0.9*max(y_obs), r'$R^2$={}'.format(round(R2_1,3)),color=\"orangered\")\n",
    "plt.text(min(x_obs_2)+0.5, 0.5*max(y_obs), r'$R^2$={}'.format(round(R2_2,3)),color=\"firebrick\")\n",
    "plt.text(min(x_obs_2),0.9*max(y_obs),\"$m_1/m_2$ = {}\".format(round(popt_1[0]/popt_2[0],2))\n",
    "         ,bbox=dict(facecolor='peachpuff', alpha=0.4,boxstyle=\"round\"))\n",
    "plt.xlabel(r\"Corriente [$A$]\")\n",
    "plt.ylabel(r\"Frecuencia [$KHz$]\")\n",
    "plt.legend()\n",
    "plt.title(\"Frecuencia en función de la corriente\")\n",
    "plt.savefig(\"Figuras/Freq_corr.png\")\n",
    "plt.show()"
   ]
  },
  {
   "cell_type": "code",
   "execution_count": null,
   "metadata": {},
   "outputs": [],
   "source": []
  },
  {
   "cell_type": "code",
   "execution_count": null,
   "metadata": {},
   "outputs": [],
   "source": []
  },
  {
   "cell_type": "code",
   "execution_count": 90,
   "metadata": {},
   "outputs": [
    {
     "data": {
      "text/html": [
       "<div>\n",
       "<style scoped>\n",
       "    .dataframe tbody tr th:only-of-type {\n",
       "        vertical-align: middle;\n",
       "    }\n",
       "\n",
       "    .dataframe tbody tr th {\n",
       "        vertical-align: top;\n",
       "    }\n",
       "\n",
       "    .dataframe thead th {\n",
       "        text-align: right;\n",
       "    }\n",
       "</style>\n",
       "<table border=\"1\" class=\"dataframe\">\n",
       "  <thead>\n",
       "    <tr style=\"text-align: right;\">\n",
       "      <th></th>\n",
       "      <th>Corriente pico 1 (A)</th>\n",
       "      <th>Corriente pico 2</th>\n",
       "      <th>Frecuencia (kHz)</th>\n",
       "      <th>Error_corriente</th>\n",
       "      <th>Error_frecuancia</th>\n",
       "    </tr>\n",
       "  </thead>\n",
       "  <tbody>\n",
       "    <tr>\n",
       "      <th>0</th>\n",
       "      <td>0.370</td>\n",
       "      <td>0.370</td>\n",
       "      <td>0</td>\n",
       "      <td>0.001</td>\n",
       "      <td>5.0</td>\n",
       "    </tr>\n",
       "    <tr>\n",
       "      <th>1</th>\n",
       "      <td>0.660</td>\n",
       "      <td>0.841</td>\n",
       "      <td>100</td>\n",
       "      <td>0.001</td>\n",
       "      <td>5.0</td>\n",
       "    </tr>\n",
       "    <tr>\n",
       "      <th>2</th>\n",
       "      <td>0.680</td>\n",
       "      <td>0.877</td>\n",
       "      <td>110</td>\n",
       "      <td>0.001</td>\n",
       "      <td>5.0</td>\n",
       "    </tr>\n",
       "    <tr>\n",
       "      <th>3</th>\n",
       "      <td>0.706</td>\n",
       "      <td>0.905</td>\n",
       "      <td>120</td>\n",
       "      <td>0.001</td>\n",
       "      <td>5.0</td>\n",
       "    </tr>\n",
       "    <tr>\n",
       "      <th>4</th>\n",
       "      <td>0.729</td>\n",
       "      <td>0.914</td>\n",
       "      <td>130</td>\n",
       "      <td>0.001</td>\n",
       "      <td>5.0</td>\n",
       "    </tr>\n",
       "    <tr>\n",
       "      <th>5</th>\n",
       "      <td>0.737</td>\n",
       "      <td>0.966</td>\n",
       "      <td>140</td>\n",
       "      <td>0.001</td>\n",
       "      <td>5.0</td>\n",
       "    </tr>\n",
       "    <tr>\n",
       "      <th>6</th>\n",
       "      <td>0.759</td>\n",
       "      <td>0.981</td>\n",
       "      <td>150</td>\n",
       "      <td>0.001</td>\n",
       "      <td>5.0</td>\n",
       "    </tr>\n",
       "  </tbody>\n",
       "</table>\n",
       "</div>"
      ],
      "text/plain": [
       "   Corriente pico 1 (A)  Corriente pico 2  Frecuencia (kHz)  Error_corriente  \\\n",
       "0                 0.370             0.370                 0            0.001   \n",
       "1                 0.660             0.841               100            0.001   \n",
       "2                 0.680             0.877               110            0.001   \n",
       "3                 0.706             0.905               120            0.001   \n",
       "4                 0.729             0.914               130            0.001   \n",
       "5                 0.737             0.966               140            0.001   \n",
       "6                 0.759             0.981               150            0.001   \n",
       "\n",
       "   Error_frecuancia  \n",
       "0               5.0  \n",
       "1               5.0  \n",
       "2               5.0  \n",
       "3               5.0  \n",
       "4               5.0  \n",
       "5               5.0  \n",
       "6               5.0  "
      ]
     },
     "execution_count": 90,
     "metadata": {},
     "output_type": "execute_result"
    }
   ],
   "source": [
    "Zeeman"
   ]
  },
  {
   "cell_type": "code",
   "execution_count": null,
   "metadata": {},
   "outputs": [],
   "source": []
  }
 ],
 "metadata": {
  "kernelspec": {
   "display_name": "Python 3",
   "language": "python",
   "name": "python3"
  },
  "language_info": {
   "codemirror_mode": {
    "name": "ipython",
    "version": 3
   },
   "file_extension": ".py",
   "mimetype": "text/x-python",
   "name": "python",
   "nbconvert_exporter": "python",
   "pygments_lexer": "ipython3",
   "version": "3.7.1"
  }
 },
 "nbformat": 4,
 "nbformat_minor": 2
}
